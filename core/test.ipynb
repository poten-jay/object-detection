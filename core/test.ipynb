{
 "cells": [
  {
   "cell_type": "code",
   "execution_count": null,
   "metadata": {},
   "outputs": [],
   "source": []
  },
  {
   "cell_type": "code",
   "execution_count": 5,
   "metadata": {},
   "outputs": [],
   "source": [
    "import cv2\n",
    "import random\n",
    "import colorsys\n",
    "import numpy as np\n",
    "import tensorflow as tf\n",
    "import pytesseract\n",
    "from config import cfg\n",
    "import re"
   ]
  },
  {
   "cell_type": "code",
   "execution_count": 21,
   "metadata": {},
   "outputs": [],
   "source": [
    "\n",
    "\n",
    "# If you don't have tesseract executable in your PATH, include the following:\n",
    "# pytesseract.pytesseract.tesseract_cmd = r'<full_path_to_your_tesseract_executable>'\n",
    "# Example tesseract_cmd = r'C:\\Program Files (x86)\\Tesseract-OCR\\tesseract'\n",
    "\n",
    "pytesseract.pytesseract.tesseract_cmd = r'C:\\Program Files\\Tesseract-OCR\\tesseract'\n",
    "\n",
    "# 번호판 인식 코드\n",
    "# function to recognize license plate numbers using Tesseract OCR\n",
    "def recognize_plate(img, coords):\n",
    "    # separate coordinates from box\n",
    "    xmin, ymin, xmax, ymax = coords\n",
    "    # get the subimage that makes up the bounded region and take an additional 5 pixels on each side\n",
    "    box = img[int(ymin)-5:int(ymax)+5, int(xmin)-5:int(xmax)+5]\n",
    "    # grayscale region within bounding box\n",
    "    gray = cv2.cvtColor(box, cv2.COLOR_RGB2GRAY)\n",
    "    # resize image to three times as large as original for better readability\n",
    "    gray = cv2.resize(gray, None, fx = 3, fy = 3, interpolation = cv2.INTER_CUBIC)\n",
    "    # perform gaussian blur to smoothen image\n",
    "    blur = cv2.GaussianBlur(gray, (5,5), 0)\n",
    "    #cv2.imshow(\"Gray\", gray)\n",
    "    #cv2.waitKey(0)\n",
    "    # threshold the image using Otsus method to preprocess for tesseract\n",
    "    ret, thresh = cv2.threshold(gray, 0, 255, cv2.THRESH_OTSU | cv2.THRESH_BINARY_INV)\n",
    "    #cv2.imshow(\"Otsu Threshold\", thresh)\n",
    "    #cv2.waitKey(0)\n",
    "    # create rectangular kernel for dilation\n",
    "    rect_kern = cv2.getStructuringElement(cv2.MORPH_RECT, (5,5))\n",
    "    # apply dilation to make regions more clear\n",
    "    dilation = cv2.dilate(thresh, rect_kern, iterations = 1)\n",
    "    #cv2.imshow(\"Dilation\", dilation)\n",
    "    #cv2.waitKey(0)\n",
    "    # find contours of regions of interest within license plate\n",
    "    try:\n",
    "        contours, hierarchy = cv2.findContours(dilation, cv2.RETR_TREE, cv2.CHAIN_APPROX_SIMPLE)\n",
    "    except:\n",
    "        ret_img, contours, hierarchy = cv2.findContours(dilation, cv2.RETR_TREE, cv2.CHAIN_APPROX_SIMPLE)\n",
    "    # sort contours left-to-right\n",
    "    sorted_contours = sorted(contours, key=lambda ctr: cv2.boundingRect(ctr)[0])\n",
    "    # create copy of gray image\n",
    "    im2 = gray.copy()\n",
    "    # create blank string to hold license plate number\n",
    "    plate_num = \"\"\n",
    "    # loop through contours and find individual letters and numbers in license plate\n",
    "    for cnt in sorted_contours:\n",
    "        x,y,w,h = cv2.boundingRect(cnt)\n",
    "        height, width = im2.shape\n",
    "        # if height of box is not tall enough relative to total height then skip\n",
    "        if height / float(h) > 6: continue\n",
    "\n",
    "        ratio = h / float(w)\n",
    "        # if height to width ratio is less than 1.5 skip\n",
    "        if ratio < 1.5: continue\n",
    "\n",
    "        # if width is not wide enough relative to total width then skip\n",
    "        if width / float(w) > 15: continue\n",
    "\n",
    "        area = h * w\n",
    "        # if area is less than 100 pixels skip\n",
    "        if area < 100: continue\n",
    "\n",
    "        # draw the rectangle\n",
    "        rect = cv2.rectangle(im2, (x,y), (x+w, y+h), (0,255,0),2)\n",
    "        # grab character region of image\n",
    "        roi = thresh[y-5:y+h+5, x-5:x+w+5]\n",
    "        # perfrom bitwise not to flip image to black text on white background\n",
    "        roi = cv2.bitwise_not(roi)\n",
    "        # perform another blur on character region\n",
    "        roi = cv2.medianBlur(roi, 5)\n",
    "\n",
    "        ## 테서렉트를 수행하는 실제 라인\n",
    "        try:\n",
    "            text = pytesseract.image_to_string(roi, config='-c tessedit_char_whitelist=0123456789ABCDEFGHIJKLMNOPQRSTUVWXYZ --psm 8 --oem 3')\n",
    "            # text = pytesseract.image_to_string(roi, config='stdout -l kor_lstm_best --psm 4 --oem 1')\n",
    "\n",
    "            # clean tesseract text by removing any unwanted blank spaces\n",
    "            clean_text = re.sub('[\\W_]+', '', text)\n",
    "            plate_num += clean_text\n",
    "        except: \n",
    "            text = None\n",
    "    if plate_num != None:\n",
    "        print(\"License Plate #: \", plate_num)\n",
    "    #cv2.imshow(\"Character's Segmented\", im2)\n",
    "    #cv2.waitKey(0)\n",
    "    return plate_num"
   ]
  },
  {
   "cell_type": "code",
   "execution_count": 22,
   "metadata": {},
   "outputs": [
    {
     "ename": "ValueError",
     "evalue": "invalid literal for int() with base 10: '0.7521525555555555'",
     "output_type": "error",
     "traceback": [
      "\u001b[1;31m---------------------------------------------------------------------------\u001b[0m",
      "\u001b[1;31mValueError\u001b[0m                                Traceback (most recent call last)",
      "\u001b[1;32m~\\AppData\\Local\\Temp/ipykernel_40248/2323256056.py\u001b[0m in \u001b[0;36m<module>\u001b[1;34m\u001b[0m\n\u001b[0;32m      1\u001b[0m \u001b[0mimg\u001b[0m \u001b[1;33m=\u001b[0m \u001b[1;34m'D:/coding/00c82d64185293a7.jpg'\u001b[0m\u001b[1;33m\u001b[0m\u001b[1;33m\u001b[0m\u001b[0m\n\u001b[0;32m      2\u001b[0m \u001b[1;33m\u001b[0m\u001b[0m\n\u001b[1;32m----> 3\u001b[1;33m \u001b[0mrecognize_plate\u001b[0m\u001b[1;33m(\u001b[0m\u001b[0mimg\u001b[0m\u001b[1;33m,\u001b[0m \u001b[0mcoords\u001b[0m\u001b[1;33m)\u001b[0m\u001b[1;33m\u001b[0m\u001b[1;33m\u001b[0m\u001b[0m\n\u001b[0m",
      "\u001b[1;32m~\\AppData\\Local\\Temp/ipykernel_40248/692349056.py\u001b[0m in \u001b[0;36mrecognize_plate\u001b[1;34m(img, coords)\u001b[0m\n\u001b[0;32m     11\u001b[0m     \u001b[0mxmin\u001b[0m\u001b[1;33m,\u001b[0m \u001b[0mymin\u001b[0m\u001b[1;33m,\u001b[0m \u001b[0mxmax\u001b[0m\u001b[1;33m,\u001b[0m \u001b[0mymax\u001b[0m \u001b[1;33m=\u001b[0m \u001b[0mcoords\u001b[0m\u001b[1;33m\u001b[0m\u001b[1;33m\u001b[0m\u001b[0m\n\u001b[0;32m     12\u001b[0m     \u001b[1;31m# get the subimage that makes up the bounded region and take an additional 5 pixels on each side\u001b[0m\u001b[1;33m\u001b[0m\u001b[1;33m\u001b[0m\u001b[1;33m\u001b[0m\u001b[0m\n\u001b[1;32m---> 13\u001b[1;33m     \u001b[0mbox\u001b[0m \u001b[1;33m=\u001b[0m \u001b[0mimg\u001b[0m\u001b[1;33m[\u001b[0m\u001b[0mint\u001b[0m\u001b[1;33m(\u001b[0m\u001b[0mymin\u001b[0m\u001b[1;33m)\u001b[0m\u001b[1;33m-\u001b[0m\u001b[1;36m5\u001b[0m\u001b[1;33m:\u001b[0m\u001b[0mint\u001b[0m\u001b[1;33m(\u001b[0m\u001b[0mymax\u001b[0m\u001b[1;33m)\u001b[0m\u001b[1;33m+\u001b[0m\u001b[1;36m5\u001b[0m\u001b[1;33m,\u001b[0m \u001b[0mint\u001b[0m\u001b[1;33m(\u001b[0m\u001b[0mxmin\u001b[0m\u001b[1;33m)\u001b[0m\u001b[1;33m-\u001b[0m\u001b[1;36m5\u001b[0m\u001b[1;33m:\u001b[0m\u001b[0mint\u001b[0m\u001b[1;33m(\u001b[0m\u001b[0mxmax\u001b[0m\u001b[1;33m)\u001b[0m\u001b[1;33m+\u001b[0m\u001b[1;36m5\u001b[0m\u001b[1;33m]\u001b[0m\u001b[1;33m\u001b[0m\u001b[1;33m\u001b[0m\u001b[0m\n\u001b[0m\u001b[0;32m     14\u001b[0m     \u001b[1;31m# grayscale region within bounding box\u001b[0m\u001b[1;33m\u001b[0m\u001b[1;33m\u001b[0m\u001b[1;33m\u001b[0m\u001b[0m\n\u001b[0;32m     15\u001b[0m     \u001b[0mgray\u001b[0m \u001b[1;33m=\u001b[0m \u001b[0mcv2\u001b[0m\u001b[1;33m.\u001b[0m\u001b[0mcvtColor\u001b[0m\u001b[1;33m(\u001b[0m\u001b[0mbox\u001b[0m\u001b[1;33m,\u001b[0m \u001b[0mcv2\u001b[0m\u001b[1;33m.\u001b[0m\u001b[0mCOLOR_RGB2GRAY\u001b[0m\u001b[1;33m)\u001b[0m\u001b[1;33m\u001b[0m\u001b[1;33m\u001b[0m\u001b[0m\n",
      "\u001b[1;31mValueError\u001b[0m: invalid literal for int() with base 10: '0.7521525555555555'"
     ]
    }
   ],
   "source": [
    "\n",
    "\n",
    "img = 'D:/coding/00c82d64185293a7.jpg'\n",
    "\n",
    "recognize_plate(img, coords)"
   ]
  },
  {
   "cell_type": "code",
   "execution_count": 19,
   "metadata": {},
   "outputs": [
    {
     "ename": "NameError",
     "evalue": "name 'a2' is not defined",
     "output_type": "error",
     "traceback": [
      "\u001b[1;31m---------------------------------------------------------------------------\u001b[0m",
      "\u001b[1;31mNameError\u001b[0m                                 Traceback (most recent call last)",
      "\u001b[1;32m~\\AppData\\Local\\Temp/ipykernel_40248/1488362279.py\u001b[0m in \u001b[0;36m<module>\u001b[1;34m\u001b[0m\n\u001b[0;32m      2\u001b[0m \u001b[0mb\u001b[0m\u001b[1;33m=\u001b[0m \u001b[1;36m2\u001b[0m\u001b[1;33m\u001b[0m\u001b[1;33m\u001b[0m\u001b[0m\n\u001b[0;32m      3\u001b[0m \u001b[1;33m\u001b[0m\u001b[0m\n\u001b[1;32m----> 4\u001b[1;33m \u001b[0ma\u001b[0m\u001b[1;33m,\u001b[0m\u001b[0mb\u001b[0m \u001b[1;33m=\u001b[0m \u001b[0ma2\u001b[0m\u001b[1;33m\u001b[0m\u001b[1;33m\u001b[0m\u001b[0m\n\u001b[0m\u001b[0;32m      5\u001b[0m \u001b[1;33m\u001b[0m\u001b[0m\n\u001b[0;32m      6\u001b[0m \u001b[1;33m\u001b[0m\u001b[0m\n",
      "\u001b[1;31mNameError\u001b[0m: name 'a2' is not defined"
     ]
    }
   ],
   "source": [
    "a = 4\n",
    "b= 2\n",
    "\n",
    "a,b = a2\n",
    "\n",
    "\n",
    "print(a2)"
   ]
  },
  {
   "cell_type": "code",
   "execution_count": null,
   "metadata": {},
   "outputs": [],
   "source": []
  }
 ],
 "metadata": {
  "interpreter": {
   "hash": "c02d1bbd38c7878eb471ed9807e4a4dbdc650a5dd00391b8fcfe048198e70bae"
  },
  "kernelspec": {
   "display_name": "Python 3.7.11 64-bit ('p612': conda)",
   "name": "python3"
  },
  "language_info": {
   "codemirror_mode": {
    "name": "ipython",
    "version": 3
   },
   "file_extension": ".py",
   "mimetype": "text/x-python",
   "name": "python",
   "nbconvert_exporter": "python",
   "pygments_lexer": "ipython3",
   "version": "3.7.11"
  },
  "orig_nbformat": 4
 },
 "nbformat": 4,
 "nbformat_minor": 2
}
